{
 "cells": [
  {
   "cell_type": "markdown",
   "metadata": {},
   "source": [
    "### Notebook overview\n",
    "1. Read in the data (function)\n",
    "    - Making sure that the data is in the correct format\n",
    "    - Function does the label mapping and conversion of labels to label ids\n",
    "\n",
    "2. Transform data into Huggingface Dataset object"
   ]
  },
  {
   "cell_type": "code",
   "execution_count": 1,
   "metadata": {},
   "outputs": [
    {
     "name": "stderr",
     "output_type": "stream",
     "text": [
      "/Applications/anaconda3/envs/NLP/lib/python3.10/site-packages/tqdm/auto.py:21: TqdmWarning: IProgress not found. Please update jupyter and ipywidgets. See https://ipywidgets.readthedocs.io/en/stable/user_install.html\n",
      "  from .autonotebook import tqdm as notebook_tqdm\n"
     ]
    }
   ],
   "source": [
    "# imports\n",
    "from transformers import AutoModelForTokenClassification, TrainingArguments, Trainer, AutoTokenizer, AutoConfig, RobertaTokenizerFast, DataCollatorForTokenClassification\n",
    "import numpy as np\n",
    "import tqdm as notebook_tqdm\n",
    "from datasets import Dataset, DatasetDict\n",
    "import torch\n",
    "\n",
    "from span_f1 import readNlu, toSpans, getBegEnd, getLooseOverlap, getUnlabeled\n"
   ]
  },
  {
   "cell_type": "code",
   "execution_count": 2,
   "metadata": {},
   "outputs": [],
   "source": [
    "# path to the data files\n",
    "path_train = \"en_ewt-ud-train.iob2\"\n",
    "path_dev = \"en_ewt-ud-dev.iob2\"\n",
    "path_test = \"en_ewt-ud-test-masked.iob2\""
   ]
  },
  {
   "cell_type": "markdown",
   "metadata": {},
   "source": [
    "### Getting the data"
   ]
  },
  {
   "cell_type": "code",
   "execution_count": 3,
   "metadata": {},
   "outputs": [],
   "source": [
    "# creating the label to id mapping \n",
    "data_labels = readNlu(path_train)\n",
    "\n",
    "label_set = set()\n",
    "\n",
    "for labels in data_labels:\n",
    "    label_set.update(labels)\n",
    "\n",
    "num_labels = len(label_set)\n",
    "\n",
    "label2id = {label: id for id, label in enumerate(label_set)}\n",
    "#print(label2id)\n",
    "\n",
    "id2label = {id: label for label, id in label2id.items()}\n",
    "#print(id2label)"
   ]
  },
  {
   "cell_type": "code",
   "execution_count": 4,
   "metadata": {},
   "outputs": [],
   "source": [
    "# from assignment 5\n",
    "# function for loading iob2 data (from solution for assignment 5)\n",
    "def read_iob2_file(path):\n",
    "    '''\n",
    "    This function reads iob2 files\n",
    "    \n",
    "    Parameters:\n",
    "    - path: path to read from\n",
    "\n",
    "    Returns:\n",
    "    - list with dictionaries for each sentence where the keys are 'tokens' and 'ner_tags' and the values are lists that hold the tokens and ner_tags\n",
    "    '''\n",
    "\n",
    "    data = []\n",
    "    current_words = []\n",
    "    current_tags = []\n",
    "    current_tag_ids = []\n",
    "    #counter = 0\n",
    "\n",
    "    for line in open(path, encoding='utf-8'):\n",
    "        line = line.strip() # removes any leading and trailing whitespaces from the line\n",
    "\n",
    "        if line:\n",
    "            if line[0] == '#': \n",
    "                continue # skip comments\n",
    "\n",
    "            # splitting at 'tab', as the data is tab separated \n",
    "            tok = line.split('\\t')\n",
    "\n",
    "            # add the entry in the second colun (the word) to current_words\n",
    "            current_words.append(tok[1]) \n",
    "\n",
    "            # add the current tag \n",
    "            current_tags.append(tok[2]) \n",
    "\n",
    "            # add the current tag mapped to the corresponding id (int)\n",
    "            current_tag_ids.append(label2id[tok[2]]) \n",
    "        \n",
    "        else: # skip empty lines\n",
    "            if current_words: # if current_words is not empty\n",
    "\n",
    "                # add entry to dict where tokens and ner_tags are keys and the values are lists\n",
    "                data.append({\"tokens\": current_words, \"ner_tags\": current_tags, \"tag_ids\": current_tag_ids})\n",
    "                 \n",
    "                # print only the first 5 loops (or less if there are fewer than 5)\n",
    "                #counter += 1\n",
    "                #if counter <= 5:\n",
    "                #    print(data[-1])  # print the last added entry (latest one)\n",
    "\n",
    "            # start over  \n",
    "            current_words = []\n",
    "            current_tags = []\n",
    "\n",
    "    # check for last one\n",
    "    if current_tags != []:\n",
    "        data.append({\"tokens\": current_words, \"ner_tags\": current_tags, \"tag_ids\": current_tag_ids})\n",
    "        \n",
    "    return data"
   ]
  },
  {
   "cell_type": "code",
   "execution_count": 5,
   "metadata": {},
   "outputs": [],
   "source": [
    "# read in data\n",
    "train_data = read_iob2_file(path_train)\n",
    "dev_data = read_iob2_file(path_dev)\n",
    "test_data = read_iob2_file(path_test)"
   ]
  },
  {
   "cell_type": "code",
   "execution_count": null,
   "metadata": {},
   "outputs": [],
   "source": [
    "# convert to huggingface format\n",
    "train_dataset = Dataset.from_list(train_data)\n",
    "#dev_dataset = Dataset.from_list(dev_data)\n",
    "#test_dataset = Dataset.from_list(test_data)"
   ]
  }
 ],
 "metadata": {
  "kernelspec": {
   "display_name": "NLP",
   "language": "python",
   "name": "python3"
  },
  "language_info": {
   "codemirror_mode": {
    "name": "ipython",
    "version": 3
   },
   "file_extension": ".py",
   "mimetype": "text/x-python",
   "name": "python",
   "nbconvert_exporter": "python",
   "pygments_lexer": "ipython3",
   "version": "3.10.16"
  }
 },
 "nbformat": 4,
 "nbformat_minor": 2
}
